{
 "cells": [
  {
   "cell_type": "code",
   "execution_count": null,
   "id": "efbab1ca-8c4a-41a8-bec5-c3339f8d6983",
   "metadata": {},
   "outputs": [],
   "source": [
    "# Final Python Script for Employee Performance Prediction"
   ]
  },
  {
   "cell_type": "code",
   "execution_count": 1,
   "id": "f72a2fbc-032c-4702-8f77-94e150302a18",
   "metadata": {},
   "outputs": [],
   "source": [
    "import pandas as pd\n",
    "import numpy as np\n",
    "from sklearn.model_selection import train_test_split, StratifiedKFold, GridSearchCV\n",
    "from sklearn.preprocessing import StandardScaler\n",
    "from sklearn.feature_selection import RFE\n",
    "from sklearn.metrics import classification_report, confusion_matrix, roc_auc_score, roc_curve, precision_recall_curve\n",
    "from sklearn.linear_model import LogisticRegression\n",
    "from sklearn.utils.class_weight import compute_class_weight\n",
    "from imblearn.over_sampling import SMOTE\n",
    "import lightgbm as lgb\n",
    "import matplotlib.pyplot as plt\n",
    "import seaborn as sns"
   ]
  },
  {
   "cell_type": "code",
   "execution_count": null,
   "id": "af8aa557-de1b-4d20-9438-9297e97dc385",
   "metadata": {},
   "outputs": [],
   "source": [
    "data = pd.read_csv(\"your_data.csv\")  # Replace with your actual path\n",
    "\n",
    "# 3. Feature & Target Split\n",
    "X = data.drop(\"is_high_performer\", axis=1)\n",
    "y = data[\"is_high_performer\"]\n",
    "\n",
    "# 4. Train-Test Split\n",
    "X_train, X_test, y_train, y_test = train_test_split(X, y, test_size=0.2, stratify=y, random_state=42)\n",
    "\n",
    "# 5. Scale Features\n",
    "scaler = StandardScaler()\n",
    "X_train_scaled = scaler.fit_transform(X_train)\n",
    "X_test_scaled = scaler.transform(X_test)\n",
    "\n",
    "# 6. Feature Selection (RFE)\n",
    "rfe_selector = RFE(estimator=LogisticRegression(), n_features_to_select=20)\n",
    "rfe_selector.fit(X_train_scaled, y_train)\n",
    "X_train_selected = rfe_selector.transform(X_train_scaled)\n",
    "X_test_selected = rfe_selector.transform(X_test_scaled)\n",
    "\n",
    "# 7. Apply SMOTE\n",
    "smote = SMOTE(random_state=42)\n",
    "X_train_balanced, y_train_balanced = smote.fit_resample(X_train_selected, y_train)\n",
    "\n",
    "# 8. LightGBM Model Training with Grid Search\n",
    "params = {\n",
    "    'learning_rate': [0.05],\n",
    "    'max_depth': [4, 6, 8],\n",
    "    'num_leaves': [31, 63],\n",
    "    'n_estimators': [100, 200]\n",
    "}\n",
    "lgbm = lgb.LGBMClassifier(random_state=42)\n",
    "grid = GridSearchCV(lgbm, param_grid=params, cv=5, scoring='f1', verbose=1)\n",
    "grid.fit(X_train_balanced, y_train_balanced)\n",
    "best_model = grid.best_estimator_\n",
    "\n",
    "# 9. Predict Probabilities & Tune Threshold\n",
    "y_pred_probs = best_model.predict_proba(X_test_selected)[:, 1]\n",
    "threshold = 0.65\n",
    "y_pred_final = (y_pred_probs >= threshold).astype(int)\n",
    "\n",
    "# 10. Evaluation\n",
    "print(\"Classification Report at threshold = 0.65\")\n",
    "print(classification_report(y_test, y_pred_final))\n",
    "print(\"Confusion Matrix:\\n\", confusion_matrix(y_test, y_pred_final))\n",
    "print(\"ROC AUC:\", roc_auc_score(y_test, y_pred_probs))"
   ]
  },
  {
   "cell_type": "code",
   "execution_count": null,
   "id": "040ac370-9287-4eef-a3e8-8e2fa2267792",
   "metadata": {},
   "outputs": [],
   "source": [
    "# 11. Precision-Recall vs Threshold Plot\n",
    "precision, recall, thresholds = precision_recall_curve(y_test, y_pred_probs)\n",
    "plt.figure(figsize=(8, 6))\n",
    "plt.plot(thresholds, precision[:-1], label=\"Precision\", linestyle='--', color='blue')\n",
    "plt.plot(thresholds, recall[:-1], label=\"Recall\", color='green')\n",
    "plt.axvline(x=0.5, linestyle='--', color='red', label='Default threshold (0.5)')\n",
    "plt.title(\"Precision-Recall vs Threshold\")\n",
    "plt.xlabel(\"Threshold\")\n",
    "plt.ylabel(\"Score\")\n",
    "plt.legend()\n",
    "plt.grid(True)\n",
    "plt.show()"
   ]
  }
 ],
 "metadata": {
  "kernelspec": {
   "display_name": "Python 3 (ipykernel)",
   "language": "python",
   "name": "python3"
  },
  "language_info": {
   "codemirror_mode": {
    "name": "ipython",
    "version": 3
   },
   "file_extension": ".py",
   "mimetype": "text/x-python",
   "name": "python",
   "nbconvert_exporter": "python",
   "pygments_lexer": "ipython3",
   "version": "3.12.4"
  }
 },
 "nbformat": 4,
 "nbformat_minor": 5
}
